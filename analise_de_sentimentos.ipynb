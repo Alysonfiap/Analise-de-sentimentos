{
  "nbformat": 4,
  "nbformat_minor": 0,
  "metadata": {
    "colab": {
      "provenance": []
    },
    "kernelspec": {
      "name": "python3",
      "display_name": "Python 3"
    },
    "language_info": {
      "name": "python"
    }
  },
  "cells": [
    {
      "cell_type": "code",
      "execution_count": null,
      "metadata": {
        "id": "WugV0N6n-22D"
      },
      "outputs": [],
      "source": [
        "import numpy as np\n",
        "import tensorflow as tf\n",
        "import pandas as pd\n",
        "import random\n",
        "from sklearn.model_selection import train_test_split\n",
        "from tensorflow.keras.preprocessing.text import Tokenizer\n",
        "from tensorflow.keras.preprocessing.sequence import pad_sequences\n",
        "import numpy as np\n",
        "from sklearn.metrics import confusion_matrix, classification_report, roc_curve, auc\n",
        "import matplotlib.pyplot as plt\n",
        "import tensorflow as tf\n",
        "from tensorflow.keras.layers import Embedding, Bidirectional, LSTM, Dense\n",
        "base_dados = pd.read_csv('/content/Suicide_Ideation_Dataset(Twitter-based).csv', sep = \",\")"
      ]
    },
    {
      "cell_type": "markdown",
      "source": [
        "Exibindo a base de dados"
      ],
      "metadata": {
        "id": "UxMnW5sa_DAq"
      }
    },
    {
      "cell_type": "code",
      "source": [
        "display(base_dados)"
      ],
      "metadata": {
        "colab": {
          "base_uri": "https://localhost:8080/",
          "height": 423
        },
        "id": "tyUe1QyH_AQ0",
        "outputId": "9e356b38-e4ea-498a-e46a-31b4f4e14d1e"
      },
      "execution_count": null,
      "outputs": [
        {
          "output_type": "display_data",
          "data": {
            "text/plain": [
              "                                                  Tweet  \\\n",
              "0                                     making some lunch   \n",
              "1                           @Alexia You want his money.   \n",
              "2     @dizzyhrvy that crap took me forever to put to...   \n",
              "3     @jnaylor #kiwitweets Hey Jer! Since when did y...   \n",
              "4     Trying out &quot;Delicious Library 2&quot; wit...   \n",
              "...                                                 ...   \n",
              "1782    i have forgotten how much i love my Nokia N95-1   \n",
              "1783  Starting my day out with a positive attitude! ...   \n",
              "1784  @belledame222 Hey, it's 5 am...give a girl som...   \n",
              "1785  2 drunken besties stumble into my room and we ...   \n",
              "1786  @dancingbonita &quot;I friggin love you!!!&quo...   \n",
              "\n",
              "                      Suicide  \n",
              "0            Not Suicide post  \n",
              "1            Not Suicide post  \n",
              "2     Potential Suicide post   \n",
              "3            Not Suicide post  \n",
              "4            Not Suicide post  \n",
              "...                       ...  \n",
              "1782         Not Suicide post  \n",
              "1783         Not Suicide post  \n",
              "1784         Not Suicide post  \n",
              "1785         Not Suicide post  \n",
              "1786         Not Suicide post  \n",
              "\n",
              "[1787 rows x 2 columns]"
            ],
            "text/html": [
              "\n",
              "  <div id=\"df-37743f5c-dd04-46da-8823-f3306fc0e518\" class=\"colab-df-container\">\n",
              "    <div>\n",
              "<style scoped>\n",
              "    .dataframe tbody tr th:only-of-type {\n",
              "        vertical-align: middle;\n",
              "    }\n",
              "\n",
              "    .dataframe tbody tr th {\n",
              "        vertical-align: top;\n",
              "    }\n",
              "\n",
              "    .dataframe thead th {\n",
              "        text-align: right;\n",
              "    }\n",
              "</style>\n",
              "<table border=\"1\" class=\"dataframe\">\n",
              "  <thead>\n",
              "    <tr style=\"text-align: right;\">\n",
              "      <th></th>\n",
              "      <th>Tweet</th>\n",
              "      <th>Suicide</th>\n",
              "    </tr>\n",
              "  </thead>\n",
              "  <tbody>\n",
              "    <tr>\n",
              "      <th>0</th>\n",
              "      <td>making some lunch</td>\n",
              "      <td>Not Suicide post</td>\n",
              "    </tr>\n",
              "    <tr>\n",
              "      <th>1</th>\n",
              "      <td>@Alexia You want his money.</td>\n",
              "      <td>Not Suicide post</td>\n",
              "    </tr>\n",
              "    <tr>\n",
              "      <th>2</th>\n",
              "      <td>@dizzyhrvy that crap took me forever to put to...</td>\n",
              "      <td>Potential Suicide post</td>\n",
              "    </tr>\n",
              "    <tr>\n",
              "      <th>3</th>\n",
              "      <td>@jnaylor #kiwitweets Hey Jer! Since when did y...</td>\n",
              "      <td>Not Suicide post</td>\n",
              "    </tr>\n",
              "    <tr>\n",
              "      <th>4</th>\n",
              "      <td>Trying out &amp;quot;Delicious Library 2&amp;quot; wit...</td>\n",
              "      <td>Not Suicide post</td>\n",
              "    </tr>\n",
              "    <tr>\n",
              "      <th>...</th>\n",
              "      <td>...</td>\n",
              "      <td>...</td>\n",
              "    </tr>\n",
              "    <tr>\n",
              "      <th>1782</th>\n",
              "      <td>i have forgotten how much i love my Nokia N95-1</td>\n",
              "      <td>Not Suicide post</td>\n",
              "    </tr>\n",
              "    <tr>\n",
              "      <th>1783</th>\n",
              "      <td>Starting my day out with a positive attitude! ...</td>\n",
              "      <td>Not Suicide post</td>\n",
              "    </tr>\n",
              "    <tr>\n",
              "      <th>1784</th>\n",
              "      <td>@belledame222 Hey, it's 5 am...give a girl som...</td>\n",
              "      <td>Not Suicide post</td>\n",
              "    </tr>\n",
              "    <tr>\n",
              "      <th>1785</th>\n",
              "      <td>2 drunken besties stumble into my room and we ...</td>\n",
              "      <td>Not Suicide post</td>\n",
              "    </tr>\n",
              "    <tr>\n",
              "      <th>1786</th>\n",
              "      <td>@dancingbonita &amp;quot;I friggin love you!!!&amp;quo...</td>\n",
              "      <td>Not Suicide post</td>\n",
              "    </tr>\n",
              "  </tbody>\n",
              "</table>\n",
              "<p>1787 rows × 2 columns</p>\n",
              "</div>\n",
              "    <div class=\"colab-df-buttons\">\n",
              "\n",
              "  <div class=\"colab-df-container\">\n",
              "    <button class=\"colab-df-convert\" onclick=\"convertToInteractive('df-37743f5c-dd04-46da-8823-f3306fc0e518')\"\n",
              "            title=\"Convert this dataframe to an interactive table.\"\n",
              "            style=\"display:none;\">\n",
              "\n",
              "  <svg xmlns=\"http://www.w3.org/2000/svg\" height=\"24px\" viewBox=\"0 -960 960 960\">\n",
              "    <path d=\"M120-120v-720h720v720H120Zm60-500h600v-160H180v160Zm220 220h160v-160H400v160Zm0 220h160v-160H400v160ZM180-400h160v-160H180v160Zm440 0h160v-160H620v160ZM180-180h160v-160H180v160Zm440 0h160v-160H620v160Z\"/>\n",
              "  </svg>\n",
              "    </button>\n",
              "\n",
              "  <style>\n",
              "    .colab-df-container {\n",
              "      display:flex;\n",
              "      gap: 12px;\n",
              "    }\n",
              "\n",
              "    .colab-df-convert {\n",
              "      background-color: #E8F0FE;\n",
              "      border: none;\n",
              "      border-radius: 50%;\n",
              "      cursor: pointer;\n",
              "      display: none;\n",
              "      fill: #1967D2;\n",
              "      height: 32px;\n",
              "      padding: 0 0 0 0;\n",
              "      width: 32px;\n",
              "    }\n",
              "\n",
              "    .colab-df-convert:hover {\n",
              "      background-color: #E2EBFA;\n",
              "      box-shadow: 0px 1px 2px rgba(60, 64, 67, 0.3), 0px 1px 3px 1px rgba(60, 64, 67, 0.15);\n",
              "      fill: #174EA6;\n",
              "    }\n",
              "\n",
              "    .colab-df-buttons div {\n",
              "      margin-bottom: 4px;\n",
              "    }\n",
              "\n",
              "    [theme=dark] .colab-df-convert {\n",
              "      background-color: #3B4455;\n",
              "      fill: #D2E3FC;\n",
              "    }\n",
              "\n",
              "    [theme=dark] .colab-df-convert:hover {\n",
              "      background-color: #434B5C;\n",
              "      box-shadow: 0px 1px 3px 1px rgba(0, 0, 0, 0.15);\n",
              "      filter: drop-shadow(0px 1px 2px rgba(0, 0, 0, 0.3));\n",
              "      fill: #FFFFFF;\n",
              "    }\n",
              "  </style>\n",
              "\n",
              "    <script>\n",
              "      const buttonEl =\n",
              "        document.querySelector('#df-37743f5c-dd04-46da-8823-f3306fc0e518 button.colab-df-convert');\n",
              "      buttonEl.style.display =\n",
              "        google.colab.kernel.accessAllowed ? 'block' : 'none';\n",
              "\n",
              "      async function convertToInteractive(key) {\n",
              "        const element = document.querySelector('#df-37743f5c-dd04-46da-8823-f3306fc0e518');\n",
              "        const dataTable =\n",
              "          await google.colab.kernel.invokeFunction('convertToInteractive',\n",
              "                                                    [key], {});\n",
              "        if (!dataTable) return;\n",
              "\n",
              "        const docLinkHtml = 'Like what you see? Visit the ' +\n",
              "          '<a target=\"_blank\" href=https://colab.research.google.com/notebooks/data_table.ipynb>data table notebook</a>'\n",
              "          + ' to learn more about interactive tables.';\n",
              "        element.innerHTML = '';\n",
              "        dataTable['output_type'] = 'display_data';\n",
              "        await google.colab.output.renderOutput(dataTable, element);\n",
              "        const docLink = document.createElement('div');\n",
              "        docLink.innerHTML = docLinkHtml;\n",
              "        element.appendChild(docLink);\n",
              "      }\n",
              "    </script>\n",
              "  </div>\n",
              "\n",
              "\n",
              "<div id=\"df-a2b08825-0b96-49a2-b308-f5975736a9ea\">\n",
              "  <button class=\"colab-df-quickchart\" onclick=\"quickchart('df-a2b08825-0b96-49a2-b308-f5975736a9ea')\"\n",
              "            title=\"Suggest charts.\"\n",
              "            style=\"display:none;\">\n",
              "\n",
              "<svg xmlns=\"http://www.w3.org/2000/svg\" height=\"24px\"viewBox=\"0 0 24 24\"\n",
              "     width=\"24px\">\n",
              "    <g>\n",
              "        <path d=\"M19 3H5c-1.1 0-2 .9-2 2v14c0 1.1.9 2 2 2h14c1.1 0 2-.9 2-2V5c0-1.1-.9-2-2-2zM9 17H7v-7h2v7zm4 0h-2V7h2v10zm4 0h-2v-4h2v4z\"/>\n",
              "    </g>\n",
              "</svg>\n",
              "  </button>\n",
              "\n",
              "<style>\n",
              "  .colab-df-quickchart {\n",
              "      --bg-color: #E8F0FE;\n",
              "      --fill-color: #1967D2;\n",
              "      --hover-bg-color: #E2EBFA;\n",
              "      --hover-fill-color: #174EA6;\n",
              "      --disabled-fill-color: #AAA;\n",
              "      --disabled-bg-color: #DDD;\n",
              "  }\n",
              "\n",
              "  [theme=dark] .colab-df-quickchart {\n",
              "      --bg-color: #3B4455;\n",
              "      --fill-color: #D2E3FC;\n",
              "      --hover-bg-color: #434B5C;\n",
              "      --hover-fill-color: #FFFFFF;\n",
              "      --disabled-bg-color: #3B4455;\n",
              "      --disabled-fill-color: #666;\n",
              "  }\n",
              "\n",
              "  .colab-df-quickchart {\n",
              "    background-color: var(--bg-color);\n",
              "    border: none;\n",
              "    border-radius: 50%;\n",
              "    cursor: pointer;\n",
              "    display: none;\n",
              "    fill: var(--fill-color);\n",
              "    height: 32px;\n",
              "    padding: 0;\n",
              "    width: 32px;\n",
              "  }\n",
              "\n",
              "  .colab-df-quickchart:hover {\n",
              "    background-color: var(--hover-bg-color);\n",
              "    box-shadow: 0 1px 2px rgba(60, 64, 67, 0.3), 0 1px 3px 1px rgba(60, 64, 67, 0.15);\n",
              "    fill: var(--button-hover-fill-color);\n",
              "  }\n",
              "\n",
              "  .colab-df-quickchart-complete:disabled,\n",
              "  .colab-df-quickchart-complete:disabled:hover {\n",
              "    background-color: var(--disabled-bg-color);\n",
              "    fill: var(--disabled-fill-color);\n",
              "    box-shadow: none;\n",
              "  }\n",
              "\n",
              "  .colab-df-spinner {\n",
              "    border: 2px solid var(--fill-color);\n",
              "    border-color: transparent;\n",
              "    border-bottom-color: var(--fill-color);\n",
              "    animation:\n",
              "      spin 1s steps(1) infinite;\n",
              "  }\n",
              "\n",
              "  @keyframes spin {\n",
              "    0% {\n",
              "      border-color: transparent;\n",
              "      border-bottom-color: var(--fill-color);\n",
              "      border-left-color: var(--fill-color);\n",
              "    }\n",
              "    20% {\n",
              "      border-color: transparent;\n",
              "      border-left-color: var(--fill-color);\n",
              "      border-top-color: var(--fill-color);\n",
              "    }\n",
              "    30% {\n",
              "      border-color: transparent;\n",
              "      border-left-color: var(--fill-color);\n",
              "      border-top-color: var(--fill-color);\n",
              "      border-right-color: var(--fill-color);\n",
              "    }\n",
              "    40% {\n",
              "      border-color: transparent;\n",
              "      border-right-color: var(--fill-color);\n",
              "      border-top-color: var(--fill-color);\n",
              "    }\n",
              "    60% {\n",
              "      border-color: transparent;\n",
              "      border-right-color: var(--fill-color);\n",
              "    }\n",
              "    80% {\n",
              "      border-color: transparent;\n",
              "      border-right-color: var(--fill-color);\n",
              "      border-bottom-color: var(--fill-color);\n",
              "    }\n",
              "    90% {\n",
              "      border-color: transparent;\n",
              "      border-bottom-color: var(--fill-color);\n",
              "    }\n",
              "  }\n",
              "</style>\n",
              "\n",
              "  <script>\n",
              "    async function quickchart(key) {\n",
              "      const quickchartButtonEl =\n",
              "        document.querySelector('#' + key + ' button');\n",
              "      quickchartButtonEl.disabled = true;  // To prevent multiple clicks.\n",
              "      quickchartButtonEl.classList.add('colab-df-spinner');\n",
              "      try {\n",
              "        const charts = await google.colab.kernel.invokeFunction(\n",
              "            'suggestCharts', [key], {});\n",
              "      } catch (error) {\n",
              "        console.error('Error during call to suggestCharts:', error);\n",
              "      }\n",
              "      quickchartButtonEl.classList.remove('colab-df-spinner');\n",
              "      quickchartButtonEl.classList.add('colab-df-quickchart-complete');\n",
              "    }\n",
              "    (() => {\n",
              "      let quickchartButtonEl =\n",
              "        document.querySelector('#df-a2b08825-0b96-49a2-b308-f5975736a9ea button');\n",
              "      quickchartButtonEl.style.display =\n",
              "        google.colab.kernel.accessAllowed ? 'block' : 'none';\n",
              "    })();\n",
              "  </script>\n",
              "</div>\n",
              "    </div>\n",
              "  </div>\n"
            ]
          },
          "metadata": {}
        }
      ]
    },
    {
      "cell_type": "markdown",
      "source": [
        "Preparando os dados para treinar um modelo de classificação binária substituindo o 'Potential Suicide post ' para 1 e 'Not Suicide post' para 0 na coluna 'Suicide' do DataFrame"
      ],
      "metadata": {
        "id": "cvkxHoLM_Lcq"
      }
    },
    {
      "cell_type": "code",
      "source": [
        "mapeamento = {'Potential Suicide post ': 1, 'Not Suicide post': 0}\n",
        "df = pd.DataFrame(base_dados)\n",
        "base_dados['Suicide'] = base_dados['Suicide'].replace(mapeamento)\n",
        "#mapeando os dados substituindo por numeros para melhor eficacia do modelo"
      ],
      "metadata": {
        "id": "doPtrlHW_PWj"
      },
      "execution_count": null,
      "outputs": []
    },
    {
      "cell_type": "markdown",
      "source": [
        "Agora vamos reorganizar as observações em uma ordem aleatória para Reduzir o Viés de Ordem e melhorar a Generalização"
      ],
      "metadata": {
        "id": "-mgNC3ka_ZvD"
      }
    },
    {
      "cell_type": "code",
      "source": [
        "#embaralhando os dados\n",
        "lista_de_dicionarios = base_dados.to_dict('records')\n",
        "random.shuffle(lista_de_dicionarios)\n",
        "df_embaralhado = pd.DataFrame(lista_de_dicionarios)"
      ],
      "metadata": {
        "id": "Z6dUS2pW_bOU"
      },
      "execution_count": null,
      "outputs": []
    },
    {
      "cell_type": "markdown",
      "source": [
        "Garantindo que todos os dados da coluna Tweet seja String"
      ],
      "metadata": {
        "id": "GlOVRlM5_dPi"
      }
    },
    {
      "cell_type": "code",
      "source": [
        "df_embaralhado['Tweet'] = df_embaralhado['Tweet'].astype(str)"
      ],
      "metadata": {
        "id": "fxNmqdu1_hU6"
      },
      "execution_count": null,
      "outputs": []
    },
    {
      "cell_type": "markdown",
      "source": [
        "Preparando os dados de texto para treinamento para o modelo de aprendizado divindindoos dados em treinamento, validação e teste.Realizando a tokenização das palavras, que converte o texto em sequências numéricas e padroniza essas sequências para que todas tenham o mesmo comprimento"
      ],
      "metadata": {
        "id": "g124tiSW_lDJ"
      }
    },
    {
      "cell_type": "code",
      "source": [
        "# Dividir os dados em conjuntos de treinamento, validação e teste\n",
        "train_df, test_df = train_test_split(df_embaralhado, test_size=0.2, random_state=42)#random_state dúvida\n",
        "#nesta linha estamos dividindo em treino e teste\n",
        "#20% são usados para para o teste df Os restantes 80% serão mantidos como conjunto de treinamento\n",
        "#treinamento:tran\n",
        "#conjunto de validação: balanceamento está certo está errado\n",
        "#teste: mede o desempenho final\n",
        "#Agora, após essa linha de código, train_df conterá 80% dos dados para treinamento e test_df conterá 20% dos dados para teste.\n",
        "#criando o val_df\n",
        "#train_df tem 64% dos dados e 16%\n",
        "train_df, val_df = train_test_split(train_df, test_size=0.2, random_state=42)\n",
        "# Tokenização e padronização das sequências para treinamento\n",
        "#padranzação 0 padronização de comprimento\n",
        "tokenizer = Tokenizer()\n",
        "tokenizer.fit_on_texts(train_df['Tweet'])\n",
        "#ajustei o tokenizer aos dados de texto de treinamento\n",
        "train_sequences = tokenizer.texts_to_sequences(train_df['Tweet'])\n",
        "#são as letras tranformadas em números\n",
        "#junção da padronização e do e das palavras tokenizadas\n",
        "train_padded = pad_sequences(train_sequences, padding='post')\n",
        "# Tokenização e padronização das sequências para validação\n",
        "val_sequences = tokenizer.texts_to_sequences(val_df['Tweet'])\n",
        "#junção da padronização e do e das palavras tokenizadas\n",
        "val_padded = pad_sequences(val_sequences, padding='post')\n",
        "# Tokenização e padronização das sequências para teste\n",
        "test_sequences = tokenizer.texts_to_sequences(test_df['Tweet'])\n",
        "#junção da padronização e do e das palavras tokenizadas\n",
        "test_padded = pad_sequences(test_sequences, padding='post')"
      ],
      "metadata": {
        "id": "mcymRW6__jtL"
      },
      "execution_count": null,
      "outputs": []
    },
    {
      "cell_type": "markdown",
      "source": [
        "Agora vamos construir, compilar e treinar um modelo de aprendizado de máquina para tarefa de classificação binária, onde o modelo deve ser capaz de classificar textos em duas categorias: suicida ou não suicida\n",
        "\n",
        "Vamos verificar a perda \"Loss\" e verificar a \"Accuracy\" a proporção de previsões corretas feitas pelo modelo em relação ao total de previsões."
      ],
      "metadata": {
        "id": "QkfIgGgM_o_C"
      }
    },
    {
      "cell_type": "code",
      "source": [
        "# Construir o modelo\n",
        "model = tf.keras.Sequential([\n",
        "    Embedding(input_dim=len(tokenizer.word_index) + 1, output_dim=128, mask_zero=True),  # Aumentar a dimensão da Embedding\n",
        "    Bidirectional(LSTM(128, return_sequences=True)),  # Adicionar return_sequences=True para manter as saídas em todas as etapas\n",
        "    Bidirectional(LSTM(64)),  # Adicionar outra camada Bidirectional LSTM\n",
        "    Dense(128, activation='relu'),  # Aumentar a complexidade da camada densa\n",
        "    Dense(1, activation='sigmoid')\n",
        "])\n",
        "\n",
        "# Compilar o modelo\n",
        "model.compile(loss='binary_crossentropy', optimizer='adam', metrics=['accuracy'])\n",
        "\n",
        "# Treinar o modelo\n",
        "history = model.fit(train_padded, train_df['Suicide'].values, epochs=20, batch_size=32, validation_data=(val_padded, val_df['Suicide'].values))\n",
        "\n",
        "# Validar o modelo nos dados de teste\n",
        "test_loss, test_accuracy = model.evaluate(test_padded, test_df['Suicide'].values)\n",
        "print(f\"Loss nos dados de teste: {test_loss}\")\n",
        "print(f\"Acurácia nos dados de teste: {test_accuracy}\")\n"
      ],
      "metadata": {
        "colab": {
          "base_uri": "https://localhost:8080/"
        },
        "id": "tQ23IKZR_uob",
        "outputId": "14722697-1149-4cf9-f069-ee8f3f3be14f"
      },
      "execution_count": null,
      "outputs": [
        {
          "output_type": "stream",
          "name": "stdout",
          "text": [
            "Epoch 1/20\n",
            "36/36 [==============================] - 88s 2s/step - loss: 0.4930 - accuracy: 0.7839 - val_loss: 0.2502 - val_accuracy: 0.9021\n",
            "Epoch 2/20\n",
            "36/36 [==============================] - 62s 2s/step - loss: 0.0655 - accuracy: 0.9834 - val_loss: 0.3827 - val_accuracy: 0.8986\n",
            "Epoch 3/20\n",
            "36/36 [==============================] - 60s 2s/step - loss: 0.0397 - accuracy: 0.9886 - val_loss: 0.2869 - val_accuracy: 0.9231\n",
            "Epoch 4/20\n",
            "36/36 [==============================] - 63s 2s/step - loss: 0.0140 - accuracy: 0.9974 - val_loss: 0.2737 - val_accuracy: 0.9161\n",
            "Epoch 5/20\n",
            "36/36 [==============================] - 59s 2s/step - loss: 0.0047 - accuracy: 1.0000 - val_loss: 0.3607 - val_accuracy: 0.9161\n",
            "Epoch 6/20\n",
            "36/36 [==============================] - 63s 2s/step - loss: 0.0015 - accuracy: 1.0000 - val_loss: 0.3955 - val_accuracy: 0.9161\n",
            "Epoch 7/20\n",
            "36/36 [==============================] - 63s 2s/step - loss: 9.5463e-04 - accuracy: 1.0000 - val_loss: 0.4243 - val_accuracy: 0.9196\n",
            "Epoch 8/20\n",
            "36/36 [==============================] - 62s 2s/step - loss: 6.8094e-04 - accuracy: 1.0000 - val_loss: 0.4513 - val_accuracy: 0.9196\n",
            "Epoch 9/20\n",
            "36/36 [==============================] - 62s 2s/step - loss: 4.9664e-04 - accuracy: 1.0000 - val_loss: 0.4698 - val_accuracy: 0.9196\n",
            "Epoch 10/20\n",
            "36/36 [==============================] - 62s 2s/step - loss: 3.8482e-04 - accuracy: 1.0000 - val_loss: 0.4858 - val_accuracy: 0.9161\n",
            "Epoch 11/20\n",
            "36/36 [==============================] - 60s 2s/step - loss: 3.0415e-04 - accuracy: 1.0000 - val_loss: 0.5055 - val_accuracy: 0.9161\n",
            "Epoch 12/20\n",
            "36/36 [==============================] - 62s 2s/step - loss: 2.3993e-04 - accuracy: 1.0000 - val_loss: 0.5210 - val_accuracy: 0.9161\n",
            "Epoch 13/20\n",
            "36/36 [==============================] - 61s 2s/step - loss: 1.9771e-04 - accuracy: 1.0000 - val_loss: 0.5355 - val_accuracy: 0.9161\n",
            "Epoch 14/20\n",
            "36/36 [==============================] - 63s 2s/step - loss: 1.6142e-04 - accuracy: 1.0000 - val_loss: 0.5464 - val_accuracy: 0.9161\n",
            "Epoch 15/20\n",
            "36/36 [==============================] - 63s 2s/step - loss: 1.3793e-04 - accuracy: 1.0000 - val_loss: 0.5590 - val_accuracy: 0.9161\n",
            "Epoch 16/20\n",
            "36/36 [==============================] - 63s 2s/step - loss: 1.1578e-04 - accuracy: 1.0000 - val_loss: 0.5693 - val_accuracy: 0.9161\n",
            "Epoch 17/20\n",
            "36/36 [==============================] - 62s 2s/step - loss: 1.0174e-04 - accuracy: 1.0000 - val_loss: 0.5802 - val_accuracy: 0.9161\n",
            "Epoch 18/20\n",
            "36/36 [==============================] - 62s 2s/step - loss: 8.6392e-05 - accuracy: 1.0000 - val_loss: 0.5889 - val_accuracy: 0.9161\n",
            "Epoch 19/20\n",
            "36/36 [==============================] - 60s 2s/step - loss: 7.5832e-05 - accuracy: 1.0000 - val_loss: 0.5969 - val_accuracy: 0.9196\n",
            "Epoch 20/20\n",
            "36/36 [==============================] - 64s 2s/step - loss: 6.7187e-05 - accuracy: 1.0000 - val_loss: 0.6065 - val_accuracy: 0.9196\n",
            "12/12 [==============================] - 10s 407ms/step - loss: 0.5045 - accuracy: 0.9162\n",
            "Loss nos dados de teste: 0.5045427083969116\n",
            "Acurácia nos dados de teste: 0.916201114654541\n"
          ]
        }
      ]
    },
    {
      "cell_type": "markdown",
      "source": [
        "Mostrando a evolução da acurácia do modelo de aprendizado de máquina ao longo das épocas durante o treinamento"
      ],
      "metadata": {
        "id": "sJqMLvqJ_7Br"
      }
    },
    {
      "cell_type": "code",
      "source": [
        "plt.plot(history.history['accuracy'])\n",
        "plt.plot(history.history['val_accuracy'])\n",
        "plt.title('Acuracia do modelo')\n",
        "plt.ylabel('accuracy')\n",
        "plt.xlabel('epoch')\n",
        "plt.legend(['Training','Validation'], loc='lower right')"
      ],
      "metadata": {
        "colab": {
          "base_uri": "https://localhost:8080/",
          "height": 490
        },
        "id": "X-z8DdZx_787",
        "outputId": "5ea457ab-4d53-4dea-dc35-6f749dffabee"
      },
      "execution_count": null,
      "outputs": [
        {
          "output_type": "execute_result",
          "data": {
            "text/plain": [
              "<matplotlib.legend.Legend at 0x7f9ac1360a60>"
            ]
          },
          "metadata": {},
          "execution_count": 8
        },
        {
          "output_type": "display_data",
          "data": {
            "text/plain": [
              "<Figure size 640x480 with 1 Axes>"
            ],
            "image/png": "[encoded data removed]"
          },
          "metadata": {}
        }
      ]
    },
    {
      "cell_type": "markdown",
      "source": [
        "Com base no relatorio da classificação o modelo demonstra um desempenho excelente na tarefa de classificação binária. Ele tem alta precisão, alto recall e alto F1-score para ambas as classes. A acurácia geral também é muito alta.\n",
        "\n",
        "Recall 97% classe 0 92% classe 1 = quer dizer Quantos dos casos reais positivos o modelo conseguiu identificar?\n",
        "\n",
        "Precisão: 95 e 95 verfica se previsões positivas do seu modelo são precisas\n",
        "\n",
        "F1 score: é uma métrica que combina as métricas de \"precision\" (precisão) e \"recall\"\n",
        "\n",
        "support:número de amostras"
      ],
      "metadata": {
        "id": "trRrTSalAA4L"
      }
    },
    {
      "cell_type": "code",
      "source": [
        "# Fazer previsões nos dados de teste\n",
        "test_predictions = model.predict(test_padded)\n",
        "test_predictions_rounded = np.round(test_predictions)\n",
        "\n",
        "# Calcular matriz de confusão\n",
        "confusion = confusion_matrix(test_df['Suicide'], test_predictions_rounded)\n",
        "\n",
        "# Calcular o F1 score e imprimir relatório de classificação\n",
        "f1 = classification_report(test_df['Suicide'], test_predictions_rounded)\n",
        "print(\"Relatório de Classificação:\")\n",
        "print(f1)\n",
        "\n",
        "# Calcular a curva ROC e a área sob a curva (AUC)\n",
        "fpr, tpr, thresholds = roc_curve(test_df['Suicide'], test_predictions)\n",
        "roc_auc = auc(fpr, tpr)\n",
        "\n",
        "# Plotar a curva ROC\n",
        "plt.figure()\n",
        "plt.plot(fpr, tpr, color='darkorange', lw=2, label='Curva ROC (area = %0.2f)' % roc_auc)\n",
        "plt.plot([0, 1], [0, 1], color='navy', lw=2, linestyle='--')\n",
        "plt.xlim([0.0, 1.0])\n",
        "plt.ylim([0.0, 1.05])\n",
        "plt.xlabel('Taxa de Falsos Positivos')\n",
        "plt.ylabel('Taxa de Verdadeiros Positivos')\n",
        "plt.title('Curva ROC')\n",
        "plt.legend(loc=\"lower right\")\n",
        "plt.show()"
      ],
      "metadata": {
        "colab": {
          "base_uri": "https://localhost:8080/",
          "height": 673
        },
        "id": "YpkPM9ku_-8U",
        "outputId": "6a941f14-7fee-4b04-905c-f234c84a4737"
      },
      "execution_count": null,
      "outputs": [
        {
          "output_type": "stream",
          "name": "stdout",
          "text": [
            "12/12 [==============================] - 9s 262ms/step\n",
            "Relatório de Classificação:\n",
            "              precision    recall  f1-score   support\n",
            "\n",
            "           0       0.93      0.94      0.94       233\n",
            "           1       0.89      0.87      0.88       125\n",
            "\n",
            "    accuracy                           0.92       358\n",
            "   macro avg       0.91      0.91      0.91       358\n",
            "weighted avg       0.92      0.92      0.92       358\n",
            "\n"
          ]
        },
        {
          "output_type": "display_data",
          "data": {
            "text/plain": [
              "<Figure size 640x480 with 1 Axes>"
            ],
            "image/png": "[encoded data removed]"
          },
          "metadata": {}
        }
      ]
    },
    {
      "cell_type": "code",
      "source": [
        "# Função para fazer previsões em um tweet e interpretar a saída\n",
        "def fazer_previsao_e_interpretar(model, tweet, tokenizer):\n",
        "    # Pré-processar o tweet\n",
        "    tweet = [tweet]  # Converter para uma lista\n",
        "    tweet = tokenizer.texts_to_sequences(tweet)\n",
        "    tweet = pad_sequences(tweet, padding='post')\n",
        "\n",
        "    # Fazer a previsão\n",
        "    previsao = model.predict(tweet)\n",
        "\n",
        "    # Interpretar a saída do modelo\n",
        "    if previsao >= 0.5:\n",
        "        resultado = \"Possivel Suicídio\"  # Se a probabilidade for maior ou igual a 0,5, classificamos como \"Suicídio\"\n",
        "    else:\n",
        "        resultado = \"Não Suicídio\"  # Caso contrário, classificamos como \"Não Suicídio\"\n",
        "\n",
        "    return resultado\n",
        "\n"
      ],
      "metadata": {
        "id": "u6fY50OiAF9D"
      },
      "execution_count": null,
      "outputs": []
    },
    {
      "cell_type": "code",
      "source": [
        "tweet = \"I want to die, I'm sad\"\n",
        "\n",
        "# Fazer a previsão usando a função\n",
        "resultado = fazer_previsao_e_interpretar(model,tweet, tokenizer)\n",
        "print(f\"A previsão para o tweet é: {resultado}\")\n"
      ],
      "metadata": {
        "colab": {
          "base_uri": "https://localhost:8080/"
        },
        "id": "vZSBd8-sAJqE",
        "outputId": "778386e3-0ee3-4721-f4b9-86814335d91f"
      },
      "execution_count": null,
      "outputs": [
        {
          "output_type": "stream",
          "name": "stdout",
          "text": [
            "1/1 [==============================] - 6s 6s/step\n",
            "A previsão para o tweet é: Possivel Suicídio\n"
          ]
        }
      ]
    }
  ]
}